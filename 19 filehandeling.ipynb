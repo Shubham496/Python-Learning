{
 "cells": [
  {
   "cell_type": "markdown",
   "id": "4b38f4e6-e93e-404e-bd54-35e50029ee6c",
   "metadata": {},
   "source": [
    "#### File handling"
   ]
  },
  {
   "cell_type": "code",
   "execution_count": null,
   "id": "4fa25bdc-47eb-45b0-88a2-539fd9fca3ba",
   "metadata": {},
   "outputs": [],
   "source": []
  },
  {
   "cell_type": "code",
   "execution_count": 23,
   "id": "c0a39263-968f-4269-b0ce-81d09b9f0189",
   "metadata": {},
   "outputs": [],
   "source": [
    "myfile = open(\"netmax.txt\", \"r\")"
   ]
  },
  {
   "cell_type": "code",
   "execution_count": 24,
   "id": "ad67a136-fed3-4553-be7b-b5c5631319aa",
   "metadata": {},
   "outputs": [
    {
     "name": "stdout",
     "output_type": "stream",
     "text": [
      "hello everyone.\n",
      "\n"
     ]
    }
   ],
   "source": [
    "print(myfile.readline())"
   ]
  },
  {
   "cell_type": "code",
   "execution_count": 25,
   "id": "54e14525-3a50-4974-8585-178419ed5592",
   "metadata": {},
   "outputs": [
    {
     "name": "stdout",
     "output_type": "stream",
     "text": [
      "hi everyone.\n",
      "\n"
     ]
    }
   ],
   "source": [
    "print(myfile.readline())"
   ]
  },
  {
   "cell_type": "code",
   "execution_count": 26,
   "id": "3bb935f5-e6e4-441a-8163-4c3e01253e06",
   "metadata": {},
   "outputs": [
    {
     "name": "stdout",
     "output_type": "stream",
     "text": [
      "hey everyone.\n"
     ]
    }
   ],
   "source": [
    "print(myfile.read())"
   ]
  },
  {
   "cell_type": "code",
   "execution_count": 27,
   "id": "598bdf4f-4dc0-40a7-a273-21a724903541",
   "metadata": {},
   "outputs": [],
   "source": [
    "myfile.close()"
   ]
  },
  {
   "cell_type": "code",
   "execution_count": null,
   "id": "899eb93f-2c6b-4bff-8e46-68d62d729ff8",
   "metadata": {},
   "outputs": [],
   "source": []
  },
  {
   "cell_type": "code",
   "execution_count": null,
   "id": "82ab82c3-5b25-4da7-a051-31830d520496",
   "metadata": {},
   "outputs": [],
   "source": []
  },
  {
   "cell_type": "code",
   "execution_count": null,
   "id": "cb00f5e4-81b5-495c-8752-d08090455e6d",
   "metadata": {},
   "outputs": [],
   "source": []
  },
  {
   "cell_type": "code",
   "execution_count": 35,
   "id": "66da8c77-b0f4-4cde-8cb8-3b600b4d016c",
   "metadata": {},
   "outputs": [],
   "source": [
    "# if in a folder \n",
    "myfile = open('shubham/hello.txt', 'r')"
   ]
  },
  {
   "cell_type": "code",
   "execution_count": 36,
   "id": "ef352c93-7457-44ab-8a12-ba8ae37bf9fe",
   "metadata": {},
   "outputs": [
    {
     "data": {
      "text/plain": [
       "\"cfygvbhjknlm;,scvbdncsdv\\nsdva\\nb\\nadfb/tn/atebarfb/wE\\nRHAJRYHERGWFW'\""
      ]
     },
     "execution_count": 36,
     "metadata": {},
     "output_type": "execute_result"
    }
   ],
   "source": [
    "myfile.read()"
   ]
  },
  {
   "cell_type": "code",
   "execution_count": 37,
   "id": "a3dbbc74-d5aa-4534-88d5-7c07ec2315b7",
   "metadata": {},
   "outputs": [],
   "source": [
    "myfile.close()"
   ]
  },
  {
   "cell_type": "code",
   "execution_count": 34,
   "id": "768514b7-f8de-42b0-a4d1-81c30d95f7e0",
   "metadata": {},
   "outputs": [],
   "source": [
    "# if in a folder outside current folder\n",
    "myfile = open('../shubham/hello.txt', 'r')"
   ]
  },
  {
   "cell_type": "code",
   "execution_count": 32,
   "id": "9f815eb2-8449-4458-92b9-4f7cfab2902d",
   "metadata": {},
   "outputs": [
    {
     "data": {
      "text/plain": [
       "\"cfygvbhjknlm;,scvbdncsdv\\nsdva\\nb\\nadfb/tn/atebarfb/wE\\nRHAJRYHERGWFW'\""
      ]
     },
     "execution_count": 32,
     "metadata": {},
     "output_type": "execute_result"
    }
   ],
   "source": [
    "myfile.read()"
   ]
  },
  {
   "cell_type": "code",
   "execution_count": 38,
   "id": "2dc807e6-0122-4bd4-94d8-c49d977dfc85",
   "metadata": {},
   "outputs": [],
   "source": [
    "myfile.close()"
   ]
  },
  {
   "cell_type": "code",
   "execution_count": null,
   "id": "844461c2-26b9-4799-8a95-658cdb492ca0",
   "metadata": {},
   "outputs": [],
   "source": []
  },
  {
   "cell_type": "code",
   "execution_count": null,
   "id": "9fb0082a-1ee2-4853-b985-ca7aaac8036f",
   "metadata": {},
   "outputs": [],
   "source": []
  },
  {
   "cell_type": "code",
   "execution_count": 41,
   "id": "b8c09f23-cc4b-4cca-8897-cae8386664fe",
   "metadata": {},
   "outputs": [
    {
     "name": "stdout",
     "output_type": "stream",
     "text": [
      "cfygvbhjknlm;,scvbdncsdv\n",
      "sdva\n",
      "b\n",
      "adfb/tn/atebarfb/wE\n",
      "RHAJRYHERGWFW'\n"
     ]
    }
   ],
   "source": [
    "try:\n",
    "    file = open('../shubham/hello.txt', 'r')\n",
    "    content = file.read()\n",
    "    print(content)\n",
    "except:\n",
    "    print(\"toba toba\")\n",
    "finally:\n",
    "    file.close()"
   ]
  },
  {
   "cell_type": "code",
   "execution_count": 43,
   "id": "15311d57-14f0-42c2-b16c-8e8ba0647c8b",
   "metadata": {},
   "outputs": [
    {
     "name": "stdout",
     "output_type": "stream",
     "text": [
      "hello everyone.\n",
      "hi everyone.\n",
      "hey everyone.\n"
     ]
    }
   ],
   "source": [
    "with open(\"netmax.txt\", \"r\") as file:\n",
    "    content = file.read()\n",
    "    print(content)\n",
    "    "
   ]
  },
  {
   "cell_type": "code",
   "execution_count": 48,
   "id": "a1f5f932-12a2-415d-a477-d062b21578c4",
   "metadata": {},
   "outputs": [],
   "source": [
    "with open(\"customer.txt\", 'a') as file:\n",
    "    c = \"\"\"\n",
    "        nice to meet you.\n",
    "        lets have dinner\n",
    "    \"\"\"\n",
    "    file.write(c)\n",
    "    "
   ]
  },
  {
   "cell_type": "code",
   "execution_count": 23,
   "id": "b81af911-5926-41ae-905f-bf6148fc8dae",
   "metadata": {},
   "outputs": [
    {
     "name": "stdout",
     "output_type": "stream",
     "text": [
      "\n",
      "        nice to meet you.\n",
      "        lets have dinner\n",
      "    \n",
      "        nice to meet you.\n",
      "        lets have dinner\n",
      "    \n"
     ]
    }
   ],
   "source": [
    "with open(\"customer.txt\", 'r') as file:\n",
    "    print(file.read())"
   ]
  },
  {
   "cell_type": "code",
   "execution_count": 25,
   "id": "0b2786fe-559c-4c51-b217-bf500b88df02",
   "metadata": {},
   "outputs": [
    {
     "name": "stdout",
     "output_type": "stream",
     "text": [
      "good day\n"
     ]
    }
   ],
   "source": [
    "with open(\"C:/Users/Hp/Music/netmax/1230pm/netmax.txt\") as file:\n",
    "    print(file.read())"
   ]
  },
  {
   "cell_type": "code",
   "execution_count": 20,
   "id": "3b48865f-de31-42af-b664-93502070f5a5",
   "metadata": {},
   "outputs": [],
   "source": [
    "with open(\"C:/Users/Hp/Music/netmax/1230pm/netmax.txt\", 'a') as file:\n",
    "    file.write(\"\\ngood day\")"
   ]
  },
  {
   "cell_type": "code",
   "execution_count": null,
   "id": "d50d614c-48f8-427d-9239-4ba1bcd547bc",
   "metadata": {},
   "outputs": [],
   "source": []
  },
  {
   "cell_type": "code",
   "execution_count": 28,
   "id": "a2b6be56-a1ee-434a-8859-fa8f65ba624b",
   "metadata": {},
   "outputs": [],
   "source": [
    "with open(\"C:/Users/Hp/Music/netmax/1230pm/netmax.txt\", 'w') as file:\n",
    "    file.write(\"good day\")"
   ]
  },
  {
   "cell_type": "code",
   "execution_count": null,
   "id": "114968bd-39ee-4697-9080-18b93fe50a47",
   "metadata": {},
   "outputs": [],
   "source": [
    "\n"
   ]
  },
  {
   "cell_type": "code",
   "execution_count": 30,
   "id": "4fd8f0a5-b05d-473b-960d-710ee54164df",
   "metadata": {},
   "outputs": [
    {
     "name": "stdout",
     "output_type": "stream",
     "text": [
      "False\n"
     ]
    }
   ],
   "source": [
    "with open(\"C:/Users/Hp/Music/netmax/1230pm/netmax.txt\" ) as file:\n",
    "    print(file.writable())"
   ]
  },
  {
   "cell_type": "code",
   "execution_count": 32,
   "id": "c1b91843-260b-4967-8c4f-2bad0eb5a479",
   "metadata": {},
   "outputs": [
    {
     "name": "stdout",
     "output_type": "stream",
     "text": [
      "True\n"
     ]
    }
   ],
   "source": [
    "with open(\"C:/Users/Hp/Music/netmax/1230pm/netmax.txt\" ) as file:\n",
    "    print(file.readable())"
   ]
  },
  {
   "cell_type": "code",
   "execution_count": 36,
   "id": "f47707bb-f500-4908-a0f7-c6c16a1ac5b6",
   "metadata": {},
   "outputs": [],
   "source": [
    "ranks = \"A 2 3 4 5 6 7 8 9 10 J Q K\".split()"
   ]
  },
  {
   "cell_type": "code",
   "execution_count": 38,
   "id": "8be27334-3228-41ae-b56b-ff1c8e547cd3",
   "metadata": {},
   "outputs": [],
   "source": [
    "suits = \"Spade Heart Dimond Club\".split()"
   ]
  },
  {
   "cell_type": "code",
   "execution_count": 52,
   "id": "386a0238-4956-4807-be9d-fa0021895e5f",
   "metadata": {},
   "outputs": [],
   "source": [
    "class Card():\n",
    "    def __init__(self, rank, suit):\n",
    "        self.rank = rank\n",
    "        self.suit = suit\n",
    "\n",
    "    def __str__(self):\n",
    "        return f'{self.rank} of {self.suit}'\n",
    "\n",
    "    def value(self):\n",
    "        a = self.rank\n",
    "        if a == \"A\":\n",
    "            return 1\n",
    "        elif a == \"J\":\n",
    "            return 11\n",
    "        elif a == \"Q\":\n",
    "            return 12\n",
    "        elif a == \"K\":\n",
    "            return 13\n",
    "        else:\n",
    "            return int(a)"
   ]
  },
  {
   "cell_type": "code",
   "execution_count": 48,
   "id": "f8c6c054-32b2-431a-93ee-e8983d8fbbb5",
   "metadata": {},
   "outputs": [],
   "source": [
    "a = card(\"K\", \"Hearts\")"
   ]
  },
  {
   "cell_type": "code",
   "execution_count": 49,
   "id": "865b5269-7b84-435b-a797-129a0ab4737f",
   "metadata": {},
   "outputs": [
    {
     "name": "stdout",
     "output_type": "stream",
     "text": [
      "K of Hearts\n"
     ]
    }
   ],
   "source": [
    "print(a)"
   ]
  },
  {
   "cell_type": "code",
   "execution_count": 50,
   "id": "d51f8700-8494-4f95-9343-1ae14c64b101",
   "metadata": {},
   "outputs": [
    {
     "data": {
      "text/plain": [
       "13"
      ]
     },
     "execution_count": 50,
     "metadata": {},
     "output_type": "execute_result"
    }
   ],
   "source": [
    "a.value()"
   ]
  },
  {
   "cell_type": "code",
   "execution_count": 72,
   "id": "d2141be7-61cb-4849-b739-9c9427f09b1c",
   "metadata": {},
   "outputs": [],
   "source": [
    "import random"
   ]
  },
  {
   "cell_type": "code",
   "execution_count": null,
   "id": "9fd70c11-d40f-4ff7-8017-5f87ac1dcf0d",
   "metadata": {},
   "outputs": [],
   "source": []
  },
  {
   "cell_type": "code",
   "execution_count": 73,
   "id": "d119844d-777b-4d25-9318-41cd03304631",
   "metadata": {},
   "outputs": [],
   "source": [
    "class DeckOfCard():\n",
    "    def __init__(self):\n",
    "        self.suits = \"Spade Heart Dimond Club\".split()\n",
    "        self.ranks = \"A 2 3 4 5 6 7 8 9 10 J Q K\".split()\n",
    "                        \n",
    "        self.Cards = []\n",
    "        for suit in self.suits:\n",
    "            for rank in self.ranks:\n",
    "                Patta =  Card(rank, suit)\n",
    "                self.Cards.append(Patta)\n",
    "\n",
    "    def __str__(self):\n",
    "        a = \"\"\n",
    "        for card in self.Cards:\n",
    "            a += f'{card.rank} of {card.suit} \\n'\n",
    "        return a\n",
    "    \n",
    "    def deal(self):\n",
    "        return self.Cards.pop()\n",
    "\n",
    "    \n",
    "    def shuffle(self):\n",
    "        random.shuffle(self.Cards)"
   ]
  },
  {
   "cell_type": "code",
   "execution_count": 84,
   "id": "c9529088-071d-4800-b4c1-543c59bd407e",
   "metadata": {},
   "outputs": [],
   "source": [
    "deck = DeckOfCard()"
   ]
  },
  {
   "cell_type": "code",
   "execution_count": 88,
   "id": "9d22a0f5-b78d-47e3-b80b-c5d45a7f48bf",
   "metadata": {},
   "outputs": [
    {
     "name": "stdout",
     "output_type": "stream",
     "text": [
      "A of Spade\n"
     ]
    }
   ],
   "source": [
    "print(deck.Cards[0])"
   ]
  },
  {
   "cell_type": "code",
   "execution_count": 76,
   "id": "04cb02e3-55f6-4a29-8499-cde5da3d0edd",
   "metadata": {},
   "outputs": [],
   "source": [
    "deck.shuffle()"
   ]
  },
  {
   "cell_type": "code",
   "execution_count": 93,
   "id": "b51e8f7e-64f1-4f25-9cae-0909e237f645",
   "metadata": {},
   "outputs": [
    {
     "name": "stdout",
     "output_type": "stream",
     "text": [
      "K of Club\n"
     ]
    }
   ],
   "source": [
    "print(deck.deal())"
   ]
  },
  {
   "cell_type": "code",
   "execution_count": 94,
   "id": "9b231269-8ba6-4771-a6da-d16b4bc0ea5f",
   "metadata": {},
   "outputs": [
    {
     "name": "stdout",
     "output_type": "stream",
     "text": [
      "Q of Club\n"
     ]
    }
   ],
   "source": [
    "print(deck.Cards[-1])"
   ]
  },
  {
   "cell_type": "code",
   "execution_count": 82,
   "id": "a5ea9da5-1ed1-46c6-8e02-037392f90b21",
   "metadata": {},
   "outputs": [],
   "source": [
    "card = deck.deal()"
   ]
  },
  {
   "cell_type": "code",
   "execution_count": 83,
   "id": "a4056ab0-98e5-48c5-bdcc-ab99041809da",
   "metadata": {},
   "outputs": [
    {
     "name": "stdout",
     "output_type": "stream",
     "text": [
      "Q of Heart\n"
     ]
    }
   ],
   "source": [
    "print(card)"
   ]
  },
  {
   "cell_type": "code",
   "execution_count": null,
   "id": "09d8ee8b-1845-430a-80d7-cdfcdeb2409a",
   "metadata": {},
   "outputs": [],
   "source": []
  }
 ],
 "metadata": {
  "kernelspec": {
   "display_name": "Python 3 (ipykernel)",
   "language": "python",
   "name": "python3"
  },
  "language_info": {
   "codemirror_mode": {
    "name": "ipython",
    "version": 3
   },
   "file_extension": ".py",
   "mimetype": "text/x-python",
   "name": "python",
   "nbconvert_exporter": "python",
   "pygments_lexer": "ipython3",
   "version": "3.12.7"
  }
 },
 "nbformat": 4,
 "nbformat_minor": 5
}
