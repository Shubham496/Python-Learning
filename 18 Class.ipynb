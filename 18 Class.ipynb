{
 "cells": [
  {
   "cell_type": "code",
   "execution_count": 1,
   "id": "add29252-03b9-4cf6-b7da-256f9f69f0a6",
   "metadata": {},
   "outputs": [],
   "source": [
    "wallet = 6000"
   ]
  },
  {
   "cell_type": "code",
   "execution_count": 2,
   "id": "5e76d12a-d168-4665-ab7d-ad3988b694ba",
   "metadata": {},
   "outputs": [
    {
     "data": {
      "text/plain": [
       "6000"
      ]
     },
     "execution_count": 2,
     "metadata": {},
     "output_type": "execute_result"
    }
   ],
   "source": [
    "wallet"
   ]
  },
  {
   "cell_type": "code",
   "execution_count": 3,
   "id": "7133f400-60d5-4dee-9467-6ede742872cb",
   "metadata": {},
   "outputs": [],
   "source": [
    "wallet = 0"
   ]
  },
  {
   "cell_type": "code",
   "execution_count": 4,
   "id": "13e77c87-d7a5-4288-bad1-8d25f3a6af62",
   "metadata": {},
   "outputs": [
    {
     "data": {
      "text/plain": [
       "0"
      ]
     },
     "execution_count": 4,
     "metadata": {},
     "output_type": "execute_result"
    }
   ],
   "source": [
    "wallet"
   ]
  },
  {
   "cell_type": "code",
   "execution_count": 5,
   "id": "55796e2d-aa7b-444f-b16d-c5cdf0b24f98",
   "metadata": {},
   "outputs": [],
   "source": [
    "def makeCoffee():\n",
    "    print('making coffee')"
   ]
  },
  {
   "cell_type": "code",
   "execution_count": 6,
   "id": "da0fb737-f9ab-49c6-949a-9c41731f6b2a",
   "metadata": {},
   "outputs": [
    {
     "name": "stdout",
     "output_type": "stream",
     "text": [
      "making coffee\n"
     ]
    }
   ],
   "source": [
    "makeCoffee()"
   ]
  },
  {
   "cell_type": "code",
   "execution_count": 7,
   "id": "7b5a608b-5dc3-40a9-9826-a4dadab1b0e8",
   "metadata": {},
   "outputs": [
    {
     "name": "stdout",
     "output_type": "stream",
     "text": [
      "making coffee\n"
     ]
    }
   ],
   "source": [
    "makeCoffee()"
   ]
  },
  {
   "cell_type": "code",
   "execution_count": 8,
   "id": "b98574f3-57ee-4566-afb6-804365bf7e12",
   "metadata": {},
   "outputs": [],
   "source": [
    "def eat():\n",
    "    print('eating pasta')"
   ]
  },
  {
   "cell_type": "code",
   "execution_count": 9,
   "id": "ce1ce767-7402-432b-b923-50eef8d0f123",
   "metadata": {},
   "outputs": [
    {
     "name": "stdout",
     "output_type": "stream",
     "text": [
      "eating pasta\n"
     ]
    }
   ],
   "source": [
    "eat()"
   ]
  },
  {
   "cell_type": "code",
   "execution_count": 10,
   "id": "5a997fb4-c540-436e-8320-624a3f369324",
   "metadata": {},
   "outputs": [],
   "source": [
    "def fuelUP(a=None):\n",
    "    print('filling..')\n",
    "    print(\"full tank\")\n",
    "    print(\"bye\")"
   ]
  },
  {
   "cell_type": "code",
   "execution_count": 11,
   "id": "aed33a06-91bb-4205-a5a3-b12299df7ba8",
   "metadata": {},
   "outputs": [
    {
     "name": "stdout",
     "output_type": "stream",
     "text": [
      "filling..\n",
      "full tank\n",
      "bye\n"
     ]
    }
   ],
   "source": [
    "fuelUP()"
   ]
  },
  {
   "cell_type": "code",
   "execution_count": 13,
   "id": "b60dcfd5-eb31-4153-a6c5-71fc44d01995",
   "metadata": {},
   "outputs": [
    {
     "name": "stdout",
     "output_type": "stream",
     "text": [
      "eating pasta\n"
     ]
    }
   ],
   "source": [
    "eat()"
   ]
  },
  {
   "cell_type": "code",
   "execution_count": 14,
   "id": "4a44851c-c3ed-4b25-9c3a-95290af906f6",
   "metadata": {},
   "outputs": [
    {
     "name": "stdout",
     "output_type": "stream",
     "text": [
      "filling..\n",
      "full tank\n",
      "bye\n"
     ]
    }
   ],
   "source": [
    "fuelUP()"
   ]
  },
  {
   "cell_type": "code",
   "execution_count": 15,
   "id": "cf5aca14-3f7a-4056-ac5c-edd91d20c40a",
   "metadata": {},
   "outputs": [],
   "source": [
    "class Car():\n",
    "    tyre = 4\n",
    "\n",
    "    def move():\n",
    "        print(\"i am moving forward\")"
   ]
  },
  {
   "cell_type": "code",
   "execution_count": 18,
   "id": "ad851626-de43-456c-95c2-4f939b2ec74c",
   "metadata": {},
   "outputs": [
    {
     "data": {
      "text/plain": [
       "4"
      ]
     },
     "execution_count": 18,
     "metadata": {},
     "output_type": "execute_result"
    }
   ],
   "source": [
    "Car.tyre"
   ]
  },
  {
   "cell_type": "code",
   "execution_count": 20,
   "id": "7cf33e85-53f1-422d-ac6c-c749711908dc",
   "metadata": {},
   "outputs": [
    {
     "name": "stdout",
     "output_type": "stream",
     "text": [
      "i am moving forward\n"
     ]
    }
   ],
   "source": [
    "Car.move()"
   ]
  },
  {
   "cell_type": "code",
   "execution_count": 22,
   "id": "d7623999-d582-4182-b4b9-849ad311b273",
   "metadata": {},
   "outputs": [],
   "source": [
    "class human():\n",
    "    Legs = 2\n",
    "\n",
    "    def eatUP():\n",
    "        print(\"i am eating\")\n",
    "        print(\"now i am full\")\n",
    "        print(\"Thank you\")"
   ]
  },
  {
   "cell_type": "code",
   "execution_count": 23,
   "id": "cfb9e970-2203-4483-8d99-786e0310c7f1",
   "metadata": {},
   "outputs": [
    {
     "data": {
      "text/plain": [
       "2"
      ]
     },
     "execution_count": 23,
     "metadata": {},
     "output_type": "execute_result"
    }
   ],
   "source": [
    "human.Legs"
   ]
  },
  {
   "cell_type": "code",
   "execution_count": 24,
   "id": "d7444406-ee65-43c6-99e8-372453afb63d",
   "metadata": {},
   "outputs": [
    {
     "name": "stdout",
     "output_type": "stream",
     "text": [
      "i am eating\n",
      "now i am full\n",
      "Thank you\n"
     ]
    }
   ],
   "source": [
    "human.eatUP()"
   ]
  },
  {
   "cell_type": "code",
   "execution_count": 29,
   "id": "a21a733e-f839-4ff4-a05d-9585b23bf8be",
   "metadata": {},
   "outputs": [],
   "source": [
    "gadi = Car()"
   ]
  },
  {
   "cell_type": "code",
   "execution_count": 30,
   "id": "b1c67447-b560-48f4-a495-5941bfdf4e1d",
   "metadata": {},
   "outputs": [],
   "source": [
    "gadi2 = Car()"
   ]
  },
  {
   "cell_type": "code",
   "execution_count": 34,
   "id": "beffa5d1-dd64-400e-8941-be00a66d0e33",
   "metadata": {},
   "outputs": [
    {
     "data": {
      "text/plain": [
       "4"
      ]
     },
     "execution_count": 34,
     "metadata": {},
     "output_type": "execute_result"
    }
   ],
   "source": [
    "gadi.tyre"
   ]
  },
  {
   "cell_type": "code",
   "execution_count": 35,
   "id": "9b69d710-41ad-49ca-b549-3c4942856c6b",
   "metadata": {},
   "outputs": [
    {
     "data": {
      "text/plain": [
       "4"
      ]
     },
     "execution_count": 35,
     "metadata": {},
     "output_type": "execute_result"
    }
   ],
   "source": [
    "gadi2.tyre"
   ]
  },
  {
   "cell_type": "code",
   "execution_count": 36,
   "id": "f6e031f2-fcf8-40fe-9646-e7e1faa0788d",
   "metadata": {},
   "outputs": [],
   "source": [
    "gadi.tyre = 3"
   ]
  },
  {
   "cell_type": "code",
   "execution_count": 37,
   "id": "e116b8a4-6532-4594-80c9-40753d967cca",
   "metadata": {},
   "outputs": [
    {
     "data": {
      "text/plain": [
       "3"
      ]
     },
     "execution_count": 37,
     "metadata": {},
     "output_type": "execute_result"
    }
   ],
   "source": [
    "gadi.tyre"
   ]
  },
  {
   "cell_type": "code",
   "execution_count": 38,
   "id": "bc9bbd0d-87eb-478d-b29b-ea4b61a2f03c",
   "metadata": {},
   "outputs": [
    {
     "data": {
      "text/plain": [
       "4"
      ]
     },
     "execution_count": 38,
     "metadata": {},
     "output_type": "execute_result"
    }
   ],
   "source": [
    "gadi2.tyre"
   ]
  },
  {
   "cell_type": "code",
   "execution_count": 39,
   "id": "f9e0c73c-bed9-4506-92e3-9e67cd7a6b88",
   "metadata": {},
   "outputs": [
    {
     "ename": "TypeError",
     "evalue": "Car.move() takes 0 positional arguments but 1 was given",
     "output_type": "error",
     "traceback": [
      "\u001b[1;31m---------------------------------------------------------------------------\u001b[0m",
      "\u001b[1;31mTypeError\u001b[0m                                 Traceback (most recent call last)",
      "Cell \u001b[1;32mIn[39], line 1\u001b[0m\n\u001b[1;32m----> 1\u001b[0m gadi\u001b[38;5;241m.\u001b[39mmove()\n",
      "\u001b[1;31mTypeError\u001b[0m: Car.move() takes 0 positional arguments but 1 was given"
     ]
    }
   ],
   "source": [
    "gadi.move()"
   ]
  },
  {
   "cell_type": "code",
   "execution_count": 40,
   "id": "fe5ae573-f889-4217-a713-2d86e6a501eb",
   "metadata": {},
   "outputs": [
    {
     "name": "stdout",
     "output_type": "stream",
     "text": [
      "i am moving forward\n"
     ]
    }
   ],
   "source": [
    "Car.move()"
   ]
  },
  {
   "cell_type": "code",
   "execution_count": 59,
   "id": "9d358e55-629d-48e2-96ba-f7dc25aa1376",
   "metadata": {},
   "outputs": [],
   "source": [
    "class Car():\n",
    "    tyre = 4\n",
    "\n",
    "    def move(self):\n",
    "        print(\"moving forward\")\n"
   ]
  },
  {
   "cell_type": "code",
   "execution_count": 55,
   "id": "c4baef89-4e0d-40c1-8076-6a4a64b359f2",
   "metadata": {},
   "outputs": [],
   "source": [
    "gadi2 = Car()"
   ]
  },
  {
   "cell_type": "code",
   "execution_count": 56,
   "id": "94de0ed5-8538-4358-bb74-b380bec52999",
   "metadata": {},
   "outputs": [
    {
     "name": "stdout",
     "output_type": "stream",
     "text": [
      "moving forward\n"
     ]
    }
   ],
   "source": [
    "gadi2.move()"
   ]
  },
  {
   "cell_type": "code",
   "execution_count": null,
   "id": "a2290776-3eed-492e-b388-72aaaccefb9e",
   "metadata": {},
   "outputs": [],
   "source": []
  },
  {
   "cell_type": "code",
   "execution_count": 60,
   "id": "f4e90f8e-1b6a-4247-ba27-793cc8528632",
   "metadata": {},
   "outputs": [],
   "source": [
    "gadi.name = \"nano\""
   ]
  },
  {
   "cell_type": "code",
   "execution_count": 61,
   "id": "9bd4817d-8f1c-4983-9fdd-3432f8a15e5c",
   "metadata": {},
   "outputs": [],
   "source": [
    "gadi2.name = \"alto\""
   ]
  },
  {
   "cell_type": "code",
   "execution_count": 62,
   "id": "695c8316-fe4b-4836-bb5b-52b4a83b7501",
   "metadata": {},
   "outputs": [
    {
     "data": {
      "text/plain": [
       "'nano'"
      ]
     },
     "execution_count": 62,
     "metadata": {},
     "output_type": "execute_result"
    }
   ],
   "source": [
    "gadi.name"
   ]
  },
  {
   "cell_type": "code",
   "execution_count": 63,
   "id": "1e18032d-26af-41f1-a356-c1137db9b4cf",
   "metadata": {},
   "outputs": [
    {
     "data": {
      "text/plain": [
       "'alto'"
      ]
     },
     "execution_count": 63,
     "metadata": {},
     "output_type": "execute_result"
    }
   ],
   "source": [
    "gadi2.name"
   ]
  },
  {
   "cell_type": "code",
   "execution_count": 84,
   "id": "b0dd0c4f-66c6-42e6-aaf3-a13003fe13b3",
   "metadata": {},
   "outputs": [],
   "source": [
    "class Car():\n",
    "    # variable belonging to whole class\n",
    "    tyre = 4\n",
    "                        \n",
    "    def __init__(self, model, year=None): # automaticly runs when object is created\n",
    "        # variable of the object\n",
    "        self.model = model\n",
    "        self.year = year\n",
    "\n",
    "    def intorduction(self):\n",
    "        print(f'hi i am {self.model} and i was made in {self.year}')\n",
    "    \n",
    "    def move(self):\n",
    "        print(\"moving forward\")"
   ]
  },
  {
   "cell_type": "code",
   "execution_count": 85,
   "id": "17378db3-5214-4665-be11-250a5b782c8b",
   "metadata": {},
   "outputs": [],
   "source": [
    "gadi = Car(\"Nano\", 2005)"
   ]
  },
  {
   "cell_type": "code",
   "execution_count": 86,
   "id": "ca3518fd-a5fd-4de6-ad44-c648daede300",
   "metadata": {},
   "outputs": [
    {
     "name": "stdout",
     "output_type": "stream",
     "text": [
      "hi i am Nano and i was made in 2005\n"
     ]
    }
   ],
   "source": [
    "gadi.intorduction()"
   ]
  },
  {
   "cell_type": "code",
   "execution_count": 88,
   "id": "e192795e-0790-454c-aa79-555517d7909d",
   "metadata": {},
   "outputs": [],
   "source": [
    "gadi2 = Car(\"Alto\", 2010)"
   ]
  },
  {
   "cell_type": "code",
   "execution_count": 89,
   "id": "3338bf11-becf-4335-998c-c8bb4ce372fa",
   "metadata": {},
   "outputs": [
    {
     "name": "stdout",
     "output_type": "stream",
     "text": [
      "hi i am Alto and i was made in 2010\n"
     ]
    }
   ],
   "source": [
    "gadi2.intorduction()"
   ]
  },
  {
   "cell_type": "code",
   "execution_count": 90,
   "id": "b870da17-ac54-4a5a-9cd0-f34c7e56514f",
   "metadata": {},
   "outputs": [],
   "source": [
    "class Human():\n",
    "    legs = 2\n",
    "\n",
    "    def __init__(self, name, age=0):\n",
    "        self.name = name\n",
    "        self.age = age\n",
    "\n",
    "    def introduciton(self):\n",
    "        print(f\"hi i am {self.name}, and my age is {self.age}\")\n",
    "    "
   ]
  },
  {
   "cell_type": "code",
   "execution_count": 91,
   "id": "5af43f55-7ae5-4502-8fe1-9017c6ca36fe",
   "metadata": {},
   "outputs": [],
   "source": [
    "Pehlainsan = Human(\"shubham\", 24)"
   ]
  },
  {
   "cell_type": "code",
   "execution_count": 92,
   "id": "dccce614-54ed-454f-b34f-3756bee5e124",
   "metadata": {},
   "outputs": [
    {
     "name": "stdout",
     "output_type": "stream",
     "text": [
      "hi i am shubham, and my age is 24\n"
     ]
    }
   ],
   "source": [
    "Pehlainsan.introduciton()"
   ]
  },
  {
   "cell_type": "code",
   "execution_count": 93,
   "id": "0cf48eef-0d3c-4fd6-8033-ece66869b1ea",
   "metadata": {},
   "outputs": [],
   "source": [
    "dosraInsan = Human(\"Abhi\", 20)"
   ]
  },
  {
   "cell_type": "code",
   "execution_count": 94,
   "id": "174016d3-b3ca-4a91-a0ce-ce04cbd833a7",
   "metadata": {},
   "outputs": [
    {
     "name": "stdout",
     "output_type": "stream",
     "text": [
      "hi i am Abhi, and my age is 20\n"
     ]
    }
   ],
   "source": [
    "dosraInsan.introduciton()"
   ]
  },
  {
   "cell_type": "code",
   "execution_count": null,
   "id": "864a6061-b63a-483b-bd0b-223a0b6f4eda",
   "metadata": {},
   "outputs": [],
   "source": []
  },
  {
   "cell_type": "code",
   "execution_count": null,
   "id": "015a24ea-8417-4514-aec5-19c8f11f46c4",
   "metadata": {},
   "outputs": [],
   "source": []
  },
  {
   "cell_type": "code",
   "execution_count": null,
   "id": "e84ebbc0-07d1-464b-871f-5295b5e22f58",
   "metadata": {},
   "outputs": [],
   "source": []
  },
  {
   "cell_type": "markdown",
   "id": "bd9b286b-d388-4764-aa85-fb41d73d3c36",
   "metadata": {},
   "source": [
    "## magic functions"
   ]
  },
  {
   "cell_type": "code",
   "execution_count": 100,
   "id": "493333ab-337a-41dd-89af-6e4d94cc949f",
   "metadata": {},
   "outputs": [],
   "source": [
    "class Account():\n",
    "    BANK_NAME = \"SBI\"\n",
    "\n",
    "    def __init__(self, name, initialDeposit=0):\n",
    "        # runs when object is created\n",
    "        self.name = name\n",
    "        self.balance = initialDeposit\n",
    "        print(f\"{self.name} WELCOME TO {self.BANK_NAME}\")\n",
    "\n",
    "    def __str__(self):\n",
    "        # mandatory to return a str\n",
    "        # runs before object is printed\n",
    "        a = f\"\"\"\n",
    "            =========== {self.BANK_NAME} =============\n",
    "            Account Holder  : {self.name} \n",
    "            Account Balance : {self.balance}\n",
    "        \"\"\"\n",
    "        return a\n",
    "\n",
    "    def __del__(self):\n",
    "        # when memory location is cleared\n",
    "        # runs before object is deleted\n",
    "        a = f\"\"\"\n",
    "            =========== {self.BANK_NAME} =============\n",
    "            we are sorry to see you go. \n",
    "        \"\"\"\n",
    "        print(a)"
   ]
  },
  {
   "cell_type": "code",
   "execution_count": null,
   "id": "2c3e162f-81e9-4231-a6f4-3b41e1e53fab",
   "metadata": {},
   "outputs": [],
   "source": []
  },
  {
   "cell_type": "code",
   "execution_count": 113,
   "id": "2321e7a0-5cfb-462d-83be-8d11dd6c2d8a",
   "metadata": {},
   "outputs": [
    {
     "name": "stdout",
     "output_type": "stream",
     "text": [
      "shubham WELCOME TO SBI\n"
     ]
    }
   ],
   "source": [
    "pehlaAccount = Account('shubham', 50000)"
   ]
  },
  {
   "cell_type": "code",
   "execution_count": 110,
   "id": "8927c410-6e10-441b-bae3-1dbb9993a359",
   "metadata": {},
   "outputs": [
    {
     "name": "stdout",
     "output_type": "stream",
     "text": [
      "\n",
      "            =========== SBI =============\n",
      "            Account Holder  : shubham \n",
      "            Account Balance : 50000\n",
      "        \n"
     ]
    }
   ],
   "source": [
    "print(pehlaAccount)"
   ]
  },
  {
   "cell_type": "code",
   "execution_count": 114,
   "id": "05b19783-0e23-44ad-ad69-7bd7effca533",
   "metadata": {},
   "outputs": [
    {
     "name": "stdout",
     "output_type": "stream",
     "text": [
      "\n",
      "            =========== SBI =============\n",
      "            we are sorry to see you go. \n",
      "        \n"
     ]
    }
   ],
   "source": [
    "del pehlaAccount"
   ]
  },
  {
   "cell_type": "code",
   "execution_count": 126,
   "id": "ccf186f7-3128-4556-8147-f9abf70226c0",
   "metadata": {},
   "outputs": [],
   "source": [
    "class Car():\n",
    "    def __init__(self):\n",
    "        self.name = \"Tata\"\n",
    "        print(\"runs when item is created\")\n",
    "\n",
    "    def __str__(self):\n",
    "        print(\"hello\")\n",
    "        return \"runs when item is printed\"\n",
    "\n",
    "    def __del__(self):\n",
    "        print(\"runs when memory locaiton is cleared\")\n",
    "        return 500"
   ]
  },
  {
   "cell_type": "code",
   "execution_count": 127,
   "id": "d042e934-50a4-4ad1-b137-78aaa2d00242",
   "metadata": {},
   "outputs": [
    {
     "name": "stdout",
     "output_type": "stream",
     "text": [
      "runs when item is created\n"
     ]
    }
   ],
   "source": [
    "gadi = Car()"
   ]
  },
  {
   "cell_type": "code",
   "execution_count": 128,
   "id": "62fd8f65-0a16-44bd-a740-83584f63054d",
   "metadata": {},
   "outputs": [
    {
     "name": "stdout",
     "output_type": "stream",
     "text": [
      "hello\n",
      "runs when item is printed\n"
     ]
    }
   ],
   "source": [
    "print(gadi)"
   ]
  },
  {
   "cell_type": "code",
   "execution_count": 130,
   "id": "7ddf0f29-dd42-4742-a366-18b71666fb13",
   "metadata": {},
   "outputs": [
    {
     "name": "stdout",
     "output_type": "stream",
     "text": [
      "runs when memory locaiton is cleared\n"
     ]
    }
   ],
   "source": [
    "del gadi"
   ]
  },
  {
   "cell_type": "code",
   "execution_count": null,
   "id": "eb877b5e-4f8c-444e-aaa4-6bd10eb0ddf8",
   "metadata": {},
   "outputs": [],
   "source": []
  },
  {
   "cell_type": "code",
   "execution_count": null,
   "id": "0280da35-116b-4c09-9405-24577930bebe",
   "metadata": {},
   "outputs": [],
   "source": []
  },
  {
   "cell_type": "code",
   "execution_count": null,
   "id": "0d8fac73-2ce3-45a5-80ba-ec42bba9ae09",
   "metadata": {},
   "outputs": [],
   "source": []
  },
  {
   "cell_type": "markdown",
   "id": "05ab8ab1-f731-4a9f-ba43-ea44b3b38eef",
   "metadata": {},
   "source": [
    "## Encapsulation"
   ]
  },
  {
   "cell_type": "code",
   "execution_count": 137,
   "id": "d660b525-c5c0-4fe7-8d54-332ab09cc3b4",
   "metadata": {},
   "outputs": [],
   "source": [
    "class Account():\n",
    "    BANK_NAME = \"SBI\"\n",
    "    def __init__(self, name, initialDeposit=0):\n",
    "        # runs when object is created\n",
    "        self.name = name\n",
    "        self.__balance = initialDeposit\n",
    "        print(f\"{self.name} WELCOME TO {self.BANK_NAME}\")\n",
    "\n",
    "    def __str__(self):\n",
    "        # mandatory to return a str\n",
    "        # runs before object is printed\n",
    "        a = f\"\"\"\n",
    "            =========== {self.BANK_NAME} =============\n",
    "            Account Holder  : {self.name} \n",
    "            Account Balance : {self.__balance}\n",
    "        \"\"\"\n",
    "        return a\n",
    "\n",
    "    def __del__(self):\n",
    "        # when memory location is cleared\n",
    "        # runs before object is deleted\n",
    "        a = f\"\"\"\n",
    "            =========== {self.BANK_NAME} =============\n",
    "            we are sorry to see you go. \n",
    "        \"\"\"\n",
    "        print(a)\n",
    "        "
   ]
  },
  {
   "cell_type": "code",
   "execution_count": 138,
   "id": "c54f50c4-a77f-4e4e-a547-f8c20b6b435a",
   "metadata": {},
   "outputs": [
    {
     "name": "stdout",
     "output_type": "stream",
     "text": [
      "Shubham WELCOME TO SBI\n"
     ]
    }
   ],
   "source": [
    "pehlaAccount = Account(\"Shubham\", 50000)"
   ]
  },
  {
   "cell_type": "code",
   "execution_count": 139,
   "id": "a2468ebd-a5ef-492e-bdc4-693f8fd71e25",
   "metadata": {},
   "outputs": [
    {
     "name": "stdout",
     "output_type": "stream",
     "text": [
      "\n",
      "            =========== SBI =============\n",
      "            Account Holder  : Shubham \n",
      "            Account Balance : 50000\n",
      "        \n"
     ]
    }
   ],
   "source": [
    "print(pehlaAccount)"
   ]
  },
  {
   "cell_type": "code",
   "execution_count": 143,
   "id": "d4098f4b-7ad4-45d2-ad6e-90fe51e2ca5e",
   "metadata": {},
   "outputs": [
    {
     "name": "stdout",
     "output_type": "stream",
     "text": [
      "\n",
      "            =========== SBI =============\n",
      "            Account Holder  : Shubham \n",
      "            Account Balance : 50000\n",
      "        \n"
     ]
    }
   ],
   "source": [
    "print(pehlaAccount)"
   ]
  },
  {
   "cell_type": "code",
   "execution_count": 135,
   "id": "8718a847-c2b1-47a8-8c77-53640ced963d",
   "metadata": {},
   "outputs": [],
   "source": [
    "pehlaAccount.balance = 0"
   ]
  },
  {
   "cell_type": "code",
   "execution_count": 136,
   "id": "432fded6-ba9f-44d7-b9d2-20b67d5cdc51",
   "metadata": {},
   "outputs": [
    {
     "name": "stdout",
     "output_type": "stream",
     "text": [
      "\n",
      "            =========== SBI =============\n",
      "            Account Holder  : Shubham \n",
      "            Account Balance : 0\n",
      "        \n"
     ]
    }
   ],
   "source": [
    "print(pehlaAccount)"
   ]
  },
  {
   "cell_type": "code",
   "execution_count": 144,
   "id": "b35a626d-0599-426b-8d58-04a07ffc48ee",
   "metadata": {},
   "outputs": [
    {
     "data": {
      "text/plain": [
       "'SBI'"
      ]
     },
     "execution_count": 144,
     "metadata": {},
     "output_type": "execute_result"
    }
   ],
   "source": [
    "pehlaAccount.BANK_NAME"
   ]
  },
  {
   "cell_type": "code",
   "execution_count": 174,
   "id": "dc76b3a4-c325-4f93-bf40-771a8f042549",
   "metadata": {},
   "outputs": [],
   "source": [
    "class Account():\n",
    "    BANK_NAME = \"SBI\"\n",
    "    def __init__(self, name, initialDeposit=0):\n",
    "        # runs when object is created\n",
    "        self.name = name\n",
    "        self.__balance = initialDeposit\n",
    "        print(f\"{self.name} WELCOME TO {self.BANK_NAME}\")\n",
    "\n",
    "    def __str__(self):\n",
    "        # mandatory to return a str\n",
    "        # runs before object is printed\n",
    "        a = f\"\"\"\n",
    "            =========== {self.BANK_NAME} =============\n",
    "            Account Holder  : {self.name} \n",
    "            Account Balance : {self.__balance}\n",
    "        \"\"\"\n",
    "        return a\n",
    "\n",
    "    def __del__(self):\n",
    "        # when memory location is cleared\n",
    "        # runs before object is deleted\n",
    "        a = f\"\"\"\n",
    "            =========== {self.BANK_NAME} =============\n",
    "            we are sorry to see you go. \n",
    "        \"\"\"\n",
    "        print(a)\n",
    "\n",
    "\n",
    "    def __transection(self, ammount, T ):\n",
    "        print(f'{ammount} was {T}')\n",
    "        print(f'current balance {self.__balance}')\n",
    "        if T == \"Credited\":\n",
    "            print(f'initial ammount {self.__balance - ammount}')\n",
    "        else:\n",
    "            print(f'initial ammount {self.__balance + ammount}')\n",
    "    \n",
    "    def credit(self, ammount=0):\n",
    "        self.__balance += ammount\n",
    "        self.__transection(ammount, \"Credited\")\n",
    "\n",
    "    def debit(self, ammount=0):\n",
    "        if self.__balance > ammount:\n",
    "            self.__balance -= ammount\n",
    "            self.__transection(ammount, \"Debited\")\n",
    "            return ammount\n",
    "        else:\n",
    "            print(\"insufficient balance\")"
   ]
  },
  {
   "cell_type": "code",
   "execution_count": 175,
   "id": "cfbb5078-6645-4a82-814b-c271cf54cfe8",
   "metadata": {},
   "outputs": [
    {
     "name": "stdout",
     "output_type": "stream",
     "text": [
      "shubham WELCOME TO SBI\n",
      "\n",
      "            =========== SBI =============\n",
      "            we are sorry to see you go. \n",
      "        \n"
     ]
    }
   ],
   "source": [
    "pehlaAccount = Account(\"shubham\", 5000)"
   ]
  },
  {
   "cell_type": "code",
   "execution_count": 176,
   "id": "e83aef59-8a00-4444-9511-d2a71661bac6",
   "metadata": {},
   "outputs": [
    {
     "name": "stdout",
     "output_type": "stream",
     "text": [
      "3000 was Credited\n",
      "current balance 8000\n",
      "initial ammount 5000\n"
     ]
    }
   ],
   "source": [
    "pehlaAccount.credit(3000)"
   ]
  },
  {
   "cell_type": "code",
   "execution_count": 177,
   "id": "7457f20b-8d61-431e-aec5-8f9a0634d8b5",
   "metadata": {},
   "outputs": [
    {
     "name": "stdout",
     "output_type": "stream",
     "text": [
      "\n",
      "            =========== SBI =============\n",
      "            Account Holder  : shubham \n",
      "            Account Balance : 8000\n",
      "        \n"
     ]
    }
   ],
   "source": [
    "print(pehlaAccount)"
   ]
  },
  {
   "cell_type": "code",
   "execution_count": 178,
   "id": "dfca9c48-8f56-4d74-8bb9-cbcd5767ca78",
   "metadata": {},
   "outputs": [
    {
     "name": "stdout",
     "output_type": "stream",
     "text": [
      "2000 was Debited\n",
      "current balance 6000\n",
      "initial ammount 8000\n"
     ]
    },
    {
     "data": {
      "text/plain": [
       "2000"
      ]
     },
     "execution_count": 178,
     "metadata": {},
     "output_type": "execute_result"
    }
   ],
   "source": [
    "pehlaAccount.debit(2000)"
   ]
  },
  {
   "cell_type": "code",
   "execution_count": null,
   "id": "a445c80a-de42-41f6-840d-d28fda2cedc3",
   "metadata": {},
   "outputs": [],
   "source": []
  },
  {
   "cell_type": "code",
   "execution_count": null,
   "id": "260fdcf4-1756-40b8-a4ca-4897e9a57275",
   "metadata": {},
   "outputs": [],
   "source": []
  },
  {
   "cell_type": "code",
   "execution_count": null,
   "id": "2049f7dc-7d13-482c-8389-c5c236a820b1",
   "metadata": {},
   "outputs": [],
   "source": []
  },
  {
   "cell_type": "markdown",
   "id": "8b3ab2a9-f3f9-4d9c-a94e-e961fedc7c52",
   "metadata": {},
   "source": [
    "## Inharitence"
   ]
  },
  {
   "cell_type": "code",
   "execution_count": 83,
   "id": "084c6304-0eb1-4fd5-b6bb-319cd038928a",
   "metadata": {},
   "outputs": [],
   "source": [
    "class Car():\n",
    "    TYRE = 4\n",
    "\n",
    "    def __init__(self, company):\n",
    "        self.company = company\n",
    "        print(\"car was made\")\n",
    "\n",
    "    def __del__(self):\n",
    "        print(\"car was scraped\")\n",
    "\n",
    "    def __str__(self):\n",
    "        return 'this is a car'\n",
    "\n",
    "    def intro(self):\n",
    "        print(\"hi this is a Car \")\n",
    "\n",
    "    def move(self):\n",
    "        print(\"moving forward\")\n",
    "\n",
    "    def fuelUP(self):\n",
    "        print(\"fuel up\")"
   ]
  },
  {
   "cell_type": "code",
   "execution_count": 123,
   "id": "8e3ec6e3-b464-4b9e-a362-b7cd40bb7548",
   "metadata": {},
   "outputs": [],
   "source": [
    "class PetrolCar(Car):\n",
    "    fuel = \"Petrol\"\n",
    "\n",
    "    def __init__(self, company, model):\n",
    "        super().__init__(company)\n",
    "        self.model = model\n",
    "\n",
    "    # function overloading - funciton redefine\n",
    "    def fuelUP(self):\n",
    "        print(\"Filling up with Petrol\")\n",
    "    \n",
    "    def intro(self):\n",
    "        print(\"this is a Petrol car\")\n",
    "    \n",
    "    def discription(self):\n",
    "        print(\"this is a Petrol car\")\n",
    "        # super function\n",
    "        super().fuelUP()\n",
    "        self.fuelUP()"
   ]
  },
  {
   "cell_type": "code",
   "execution_count": 120,
   "id": "a99e9c29-0642-4d59-89d5-a02b6cd275b3",
   "metadata": {},
   "outputs": [
    {
     "name": "stdout",
     "output_type": "stream",
     "text": [
      "car was made\n"
     ]
    }
   ],
   "source": [
    "gadi = PetrolCar(\"company\", \"model\")"
   ]
  },
  {
   "cell_type": "code",
   "execution_count": 122,
   "id": "54e77a0d-6e4a-46a1-bc5f-62e36fb14125",
   "metadata": {},
   "outputs": [
    {
     "data": {
      "text/plain": [
       "'company'"
      ]
     },
     "execution_count": 122,
     "metadata": {},
     "output_type": "execute_result"
    }
   ],
   "source": [
    "gadi.company"
   ]
  },
  {
   "cell_type": "code",
   "execution_count": 117,
   "id": "b88387e8-e29d-41fb-9c79-616633c9e388",
   "metadata": {},
   "outputs": [
    {
     "name": "stdout",
     "output_type": "stream",
     "text": [
      "this is a Petrol car\n",
      "fuel up\n",
      "Filling up with Petrol\n"
     ]
    }
   ],
   "source": [
    "gadi.discription()"
   ]
  },
  {
   "cell_type": "code",
   "execution_count": 113,
   "id": "a25031f1-7d55-4852-86ae-69c52e4624bc",
   "metadata": {},
   "outputs": [
    {
     "name": "stdout",
     "output_type": "stream",
     "text": [
      "Filling up with Petrol\n"
     ]
    }
   ],
   "source": [
    "gadi.fuelUP()"
   ]
  },
  {
   "cell_type": "code",
   "execution_count": 82,
   "id": "aeb4f725-6711-4718-9e0a-d5cc226d8b41",
   "metadata": {},
   "outputs": [],
   "source": [
    "class CngCar(Car):\n",
    "    fuel = \"CNG\"\n",
    "\n",
    "    # funciton overloading\n",
    "    def __init__(self, company,model):\n",
    "        # super\n",
    "        super().__init__(company)\n",
    "        self.model = model\n",
    "\n",
    "    # funciton overloding = rewriting a function \n",
    "    def intro(self):\n",
    "        print(\"this is a CNG car\")\n",
    "\n",
    "    # super means parent class\n",
    "    def discription(self):\n",
    "        print(\"this is a cng car\")\n",
    "        super().fuelUP()\n",
    "    "
   ]
  },
  {
   "cell_type": "code",
   "execution_count": 79,
   "id": "bc7aea11-ab36-42f0-95bc-b68a5575506a",
   "metadata": {},
   "outputs": [
    {
     "name": "stdout",
     "output_type": "stream",
     "text": [
      "car was made\n",
      "car was scraped\n"
     ]
    }
   ],
   "source": [
    "gadi = CngCar(\"TATA\", 'nano')"
   ]
  },
  {
   "cell_type": "code",
   "execution_count": 81,
   "id": "78168437-6878-470d-92f2-ac288b4dc2c4",
   "metadata": {},
   "outputs": [
    {
     "data": {
      "text/plain": [
       "'nano'"
      ]
     },
     "execution_count": 81,
     "metadata": {},
     "output_type": "execute_result"
    }
   ],
   "source": [
    "gadi.model"
   ]
  },
  {
   "cell_type": "code",
   "execution_count": 80,
   "id": "9d7895b1-eb6e-4b67-9c8e-d681921cde2e",
   "metadata": {},
   "outputs": [
    {
     "data": {
      "text/plain": [
       "'TATA'"
      ]
     },
     "execution_count": 80,
     "metadata": {},
     "output_type": "execute_result"
    }
   ],
   "source": [
    "gadi.company"
   ]
  },
  {
   "cell_type": "code",
   "execution_count": 64,
   "id": "87c9474d-39ae-47e4-88cb-caa00e7fdacb",
   "metadata": {},
   "outputs": [
    {
     "name": "stdout",
     "output_type": "stream",
     "text": [
      "filling CNG\n"
     ]
    }
   ],
   "source": [
    "gadi.fuelUP()"
   ]
  },
  {
   "cell_type": "code",
   "execution_count": 65,
   "id": "ff8fcc09-c7ca-4dd2-9c4a-a3549e43ac23",
   "metadata": {},
   "outputs": [
    {
     "name": "stdout",
     "output_type": "stream",
     "text": [
      "this is a cng car\n",
      "fuel up\n"
     ]
    }
   ],
   "source": [
    "gadi.discription()"
   ]
  },
  {
   "cell_type": "code",
   "execution_count": 70,
   "id": "de421740-5e9f-43bd-80ac-6161d4fdc688",
   "metadata": {},
   "outputs": [
    {
     "name": "stdout",
     "output_type": "stream",
     "text": [
      "this is a CNG car\n"
     ]
    }
   ],
   "source": [
    "gadi.intro()"
   ]
  },
  {
   "cell_type": "code",
   "execution_count": 124,
   "id": "c5266889-192c-4b84-9239-651227f8592f",
   "metadata": {},
   "outputs": [
    {
     "name": "stdout",
     "output_type": "stream",
     "text": [
      "car was made\n"
     ]
    }
   ],
   "source": [
    "cngGadi = CngCar(\"Tata\", \"nano\")"
   ]
  },
  {
   "cell_type": "code",
   "execution_count": 125,
   "id": "8dc1713b-499d-402e-b23f-1ae8ab39adc6",
   "metadata": {},
   "outputs": [
    {
     "name": "stdout",
     "output_type": "stream",
     "text": [
      "car was made\n"
     ]
    }
   ],
   "source": [
    "petGadi = PetrolCar('Maruti', \"swift\")"
   ]
  },
  {
   "cell_type": "code",
   "execution_count": 126,
   "id": "b45494fb-63b7-4b76-9777-3db8157e253b",
   "metadata": {},
   "outputs": [
    {
     "name": "stdout",
     "output_type": "stream",
     "text": [
      "this is a CNG car\n"
     ]
    }
   ],
   "source": [
    "cngGadi.intro()"
   ]
  },
  {
   "cell_type": "code",
   "execution_count": 127,
   "id": "cd846dc5-f173-4838-ad2d-f197b69017a8",
   "metadata": {},
   "outputs": [
    {
     "name": "stdout",
     "output_type": "stream",
     "text": [
      "this is a Petrol car\n"
     ]
    }
   ],
   "source": [
    "petGadi.intro()"
   ]
  },
  {
   "cell_type": "markdown",
   "id": "bdb6998f-bb67-4289-94aa-84456ea3b348",
   "metadata": {},
   "source": [
    "\n",
    "## Polymorphism"
   ]
  },
  {
   "cell_type": "code",
   "execution_count": 4,
   "id": "85da46d5-a2ee-443a-bbd0-1eccf60824e2",
   "metadata": {},
   "outputs": [],
   "source": [
    "import numpy"
   ]
  },
  {
   "cell_type": "code",
   "execution_count": 5,
   "id": "b5c7ea38-617f-4e12-8cb6-e2e9fdc9fc01",
   "metadata": {},
   "outputs": [],
   "source": [
    "import random"
   ]
  },
  {
   "cell_type": "code",
   "execution_count": 6,
   "id": "54909f77-c081-4357-bcf0-6688e66da7d9",
   "metadata": {},
   "outputs": [
    {
     "data": {
      "text/plain": [
       "9"
      ]
     },
     "execution_count": 6,
     "metadata": {},
     "output_type": "execute_result"
    }
   ],
   "source": [
    "random.randint(5, 10)"
   ]
  },
  {
   "cell_type": "code",
   "execution_count": 8,
   "id": "e5adeb40-b051-425c-9dce-771c69dfff1b",
   "metadata": {},
   "outputs": [
    {
     "data": {
      "text/plain": [
       "array([3, 2, 3, 1, 4, 1, 2, 1, 2, 4])"
      ]
     },
     "execution_count": 8,
     "metadata": {},
     "output_type": "execute_result"
    }
   ],
   "source": [
    "numpy.random.randint(1, 5, 10)"
   ]
  },
  {
   "cell_type": "code",
   "execution_count": null,
   "id": "e87207bb-6936-4b89-9983-bc3469b766f3",
   "metadata": {},
   "outputs": [],
   "source": []
  },
  {
   "cell_type": "code",
   "execution_count": 26,
   "id": "2b68e5b5-c332-43c5-a50a-7e43e8ce4ee5",
   "metadata": {},
   "outputs": [],
   "source": [
    "class Car():\n",
    "    carType = \"Simple\"\n",
    "    def intro(self):\n",
    "        print(f\"this is a {self.carType}\")"
   ]
  },
  {
   "cell_type": "code",
   "execution_count": 10,
   "id": "e8441b54-9071-487a-9bd3-b4b07a478156",
   "metadata": {},
   "outputs": [],
   "source": [
    "gadi = Car()"
   ]
  },
  {
   "cell_type": "code",
   "execution_count": 12,
   "id": "37f8ccfe-dd61-4c1d-84b0-9f833e05b6b2",
   "metadata": {},
   "outputs": [
    {
     "name": "stdout",
     "output_type": "stream",
     "text": [
      "this is a car\n"
     ]
    }
   ],
   "source": [
    "gadi.intro()"
   ]
  },
  {
   "cell_type": "code",
   "execution_count": 37,
   "id": "edec7137-aa32-4fce-9806-e41475bd3fd5",
   "metadata": {},
   "outputs": [],
   "source": [
    "class ElectricCar(Car):\n",
    "    carType = \"Electric\"\n",
    "    def intro(self):\n",
    "        print(f\"this is a {self.carType} car\")"
   ]
  },
  {
   "cell_type": "code",
   "execution_count": 38,
   "id": "e77e888d-a0ee-40b1-ba56-7548e5ffc044",
   "metadata": {},
   "outputs": [],
   "source": [
    "egadi = ElectricCar()"
   ]
  },
  {
   "cell_type": "code",
   "execution_count": 39,
   "id": "e0ef2dc7-15d6-46f3-9b82-f06b2b7f054c",
   "metadata": {},
   "outputs": [
    {
     "name": "stdout",
     "output_type": "stream",
     "text": [
      "this is a Electric car\n"
     ]
    }
   ],
   "source": [
    "egadi.intro()"
   ]
  },
  {
   "cell_type": "code",
   "execution_count": 40,
   "id": "3c835add-0009-43de-9cbe-b05107647c27",
   "metadata": {},
   "outputs": [],
   "source": [
    "class PetrolCar(Car):\n",
    "\n",
    "    carType = \"Petrol\"\n",
    "    def intro(self):\n",
    "        print(f\"this is a {self.carType} car\")"
   ]
  },
  {
   "cell_type": "code",
   "execution_count": 41,
   "id": "32dc3140-c256-4b84-b525-1451850db852",
   "metadata": {},
   "outputs": [],
   "source": [
    "pgadi  = PetrolCar()"
   ]
  },
  {
   "cell_type": "code",
   "execution_count": 42,
   "id": "b99dcf44-a68c-4567-805f-2ef877a1ac91",
   "metadata": {},
   "outputs": [
    {
     "name": "stdout",
     "output_type": "stream",
     "text": [
      "this is a Petrol car\n"
     ]
    }
   ],
   "source": [
    "pgadi.intro()"
   ]
  },
  {
   "cell_type": "code",
   "execution_count": 43,
   "id": "4724e898-6564-4b90-9f15-9b11953a420a",
   "metadata": {},
   "outputs": [],
   "source": [
    "class CngCar(Car):\n",
    "    pass"
   ]
  },
  {
   "cell_type": "code",
   "execution_count": 44,
   "id": "9a5c642e-dcd6-4124-91b0-f933804bf4cb",
   "metadata": {},
   "outputs": [],
   "source": [
    "cgadi = CngCar()"
   ]
  },
  {
   "cell_type": "code",
   "execution_count": 45,
   "id": "a85c7095-0a5a-40ec-8f7b-0401e2c18b5e",
   "metadata": {},
   "outputs": [
    {
     "name": "stdout",
     "output_type": "stream",
     "text": [
      "this is a Simple\n"
     ]
    }
   ],
   "source": [
    "cgadi.intro()"
   ]
  },
  {
   "cell_type": "markdown",
   "id": "cb236070-95cf-429b-bdac-034abfad62e0",
   "metadata": {},
   "source": [
    "## Abstraction"
   ]
  },
  {
   "cell_type": "markdown",
   "id": "d4949f47-bf9d-4a80-852b-55e73c442c3a",
   "metadata": {},
   "source": [
    "### if a child class is being created i want to make it mandatory to function overloading on a particular funtion"
   ]
  },
  {
   "cell_type": "code",
   "execution_count": 48,
   "id": "f8b1409f-5831-41c9-9c8a-8526f66d5401",
   "metadata": {},
   "outputs": [],
   "source": [
    "from abc import ABC, abstractmethod, abstractstaticmethod"
   ]
  },
  {
   "cell_type": "code",
   "execution_count": 49,
   "id": "0df28647-b032-4dea-9b0f-d79f0c0c8fdd",
   "metadata": {},
   "outputs": [],
   "source": [
    "# a function that modifies the behavior of another function (or method or class). It can change:"
   ]
  },
  {
   "cell_type": "code",
   "execution_count": 57,
   "id": "83b2dae9-fa66-4f67-9246-0e2676a09fe5",
   "metadata": {},
   "outputs": [],
   "source": [
    "class Car(ABC):\n",
    "    carType = \"Simple\"\n",
    "\n",
    "    def hello(self):\n",
    "        print(\"hello everyone\")\n",
    "\n",
    "    @abstractmethod\n",
    "    def intro(self):\n",
    "        print(f\"this is a {self.carType}\")"
   ]
  },
  {
   "cell_type": "code",
   "execution_count": 64,
   "id": "ffd49164-0562-4379-a801-887aea6a4727",
   "metadata": {},
   "outputs": [],
   "source": [
    "class DieselCar(Car):\n",
    "\n",
    "    def intro(self):\n",
    "        print('this is a diesel car')"
   ]
  },
  {
   "cell_type": "code",
   "execution_count": 65,
   "id": "440186d3-9992-4d4e-870a-ca1cfbfebc54",
   "metadata": {},
   "outputs": [],
   "source": [
    "dgadi = DieselCar()"
   ]
  },
  {
   "cell_type": "code",
   "execution_count": 60,
   "id": "f701e9b1-ca78-4b79-91f6-ac57b3a76e03",
   "metadata": {},
   "outputs": [
    {
     "name": "stdout",
     "output_type": "stream",
     "text": [
      "this is a diesel car\n"
     ]
    }
   ],
   "source": [
    "dgadi.intro()"
   ]
  },
  {
   "cell_type": "code",
   "execution_count": 61,
   "id": "fa6c3ed3-4c57-41d5-9cd3-daaa8b91eaa0",
   "metadata": {},
   "outputs": [
    {
     "name": "stdout",
     "output_type": "stream",
     "text": [
      "hello everyone\n"
     ]
    }
   ],
   "source": [
    "dgadi.hello()"
   ]
  },
  {
   "cell_type": "code",
   "execution_count": null,
   "id": "11adc9a2-627b-4412-a9ac-39ebb6efacbd",
   "metadata": {},
   "outputs": [],
   "source": [
    "a = Car()"
   ]
  },
  {
   "cell_type": "code",
   "execution_count": 68,
   "id": "58060257-4881-40de-861e-4f60714051fc",
   "metadata": {},
   "outputs": [],
   "source": [
    "a = list()"
   ]
  },
  {
   "cell_type": "code",
   "execution_count": 69,
   "id": "0479f25b-d085-4b35-ab64-b46f873a7056",
   "metadata": {},
   "outputs": [
    {
     "data": {
      "text/plain": [
       "'Shubham'"
      ]
     },
     "execution_count": 69,
     "metadata": {},
     "output_type": "execute_result"
    }
   ],
   "source": [
    "\"Shubham\""
   ]
  },
  {
   "cell_type": "code",
   "execution_count": 70,
   "id": "05d0303a-5cb8-4933-b74e-f34ba12d6685",
   "metadata": {},
   "outputs": [
    {
     "data": {
      "text/plain": [
       "85"
      ]
     },
     "execution_count": 70,
     "metadata": {},
     "output_type": "execute_result"
    }
   ],
   "source": [
    "85\n"
   ]
  },
  {
   "cell_type": "code",
   "execution_count": 71,
   "id": "0d674b54-ef7c-41ae-8d8c-e67c7dc8ba51",
   "metadata": {},
   "outputs": [
    {
     "data": {
      "text/plain": [
       "541.4"
      ]
     },
     "execution_count": 71,
     "metadata": {},
     "output_type": "execute_result"
    }
   ],
   "source": [
    "541.4"
   ]
  },
  {
   "cell_type": "code",
   "execution_count": 72,
   "id": "fafbfc4b-6238-45a3-b351-32cdfcb6f522",
   "metadata": {},
   "outputs": [
    {
     "data": {
      "text/plain": [
       "True"
      ]
     },
     "execution_count": 72,
     "metadata": {},
     "output_type": "execute_result"
    }
   ],
   "source": [
    "True"
   ]
  },
  {
   "cell_type": "code",
   "execution_count": 73,
   "id": "6897e01b-5936-4634-8597-0007b4a3dabb",
   "metadata": {},
   "outputs": [],
   "source": [
    "a = list()"
   ]
  },
  {
   "cell_type": "code",
   "execution_count": 74,
   "id": "f1391d63-8ca5-4b5f-814b-1395baf2637f",
   "metadata": {},
   "outputs": [],
   "source": [
    "b = tuple()"
   ]
  },
  {
   "cell_type": "code",
   "execution_count": 75,
   "id": "0df0cf49-3d24-440a-a37d-12a877c5086f",
   "metadata": {},
   "outputs": [],
   "source": [
    "c = dict()"
   ]
  },
  {
   "cell_type": "code",
   "execution_count": 77,
   "id": "370d1284-89ae-4fea-95ef-fb67da61e9b6",
   "metadata": {},
   "outputs": [],
   "source": [
    "# funcitons are called methods\n",
    "# variables are called attributes"
   ]
  },
  {
   "cell_type": "code",
   "execution_count": 94,
   "id": "e4c76c69-2640-4701-b272-ab243c31ef9f",
   "metadata": {},
   "outputs": [],
   "source": [
    "class Animal():\n",
    "    good = \"yes\"\n",
    "    \n",
    "    def __init__(self):\n",
    "        self.name = \"Animal\"\n",
    "\n",
    "    def sayHello(self):\n",
    "        print(\"hello everyone nice to meet you\")\n",
    "\n",
    "    # static\n",
    "    @staticmethod\n",
    "    def sayHi():\n",
    "        print(\"hi everyone nice to meet you\")"
   ]
  },
  {
   "cell_type": "code",
   "execution_count": 95,
   "id": "155ffa3b-728a-496a-8f8f-6747b1090380",
   "metadata": {},
   "outputs": [],
   "source": [
    "dog = Animal()"
   ]
  },
  {
   "cell_type": "code",
   "execution_count": 96,
   "id": "4edfcfbe-0dd4-4a37-84e3-a2c67d4aa993",
   "metadata": {},
   "outputs": [
    {
     "name": "stdout",
     "output_type": "stream",
     "text": [
      "hi everyone nice to meet you\n"
     ]
    }
   ],
   "source": [
    "dog.sayHi()"
   ]
  },
  {
   "cell_type": "code",
   "execution_count": 89,
   "id": "5dbdff64-5e72-4975-bca4-2c57bfed3a6b",
   "metadata": {},
   "outputs": [],
   "source": [
    "cat = Animal()"
   ]
  },
  {
   "cell_type": "code",
   "execution_count": 90,
   "id": "19ced6b1-b9b4-4fee-9c0a-5a9099d50fe4",
   "metadata": {},
   "outputs": [],
   "source": [
    "# OpenCV"
   ]
  },
  {
   "cell_type": "code",
   "execution_count": null,
   "id": "a474bc8c-ce74-4463-8435-f10d14e48f7b",
   "metadata": {},
   "outputs": [],
   "source": []
  }
 ],
 "metadata": {
  "kernelspec": {
   "display_name": "Python 3 (ipykernel)",
   "language": "python",
   "name": "python3"
  },
  "language_info": {
   "codemirror_mode": {
    "name": "ipython",
    "version": 3
   },
   "file_extension": ".py",
   "mimetype": "text/x-python",
   "name": "python",
   "nbconvert_exporter": "python",
   "pygments_lexer": "ipython3",
   "version": "3.12.7"
  }
 },
 "nbformat": 4,
 "nbformat_minor": 5
}
